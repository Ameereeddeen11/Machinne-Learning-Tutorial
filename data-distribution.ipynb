{
 "cells": [
  {
   "cell_type": "code",
   "execution_count": 45,
   "metadata": {
    "pycharm": {
     "is_executing": true
    }
   },
   "outputs": [
    {
     "name": "stdout",
     "output_type": "stream",
     "text": [
      "[57.08106812 51.18371074 49.54955772  7.92327803 54.55142846]\n"
     ]
    }
   ],
   "source": [
    "import numpy\n",
    "from scipy import stats\n",
    "\n",
    "# We need to create a big data set. For that we will use Python model Numpy to create random data sets\n",
    "data = numpy.random.uniform(1, 60, 5)\n",
    "print(data)"
   ]
  },
  {
   "cell_type": "code",
   "execution_count": 46,
   "metadata": {
    "collapsed": false
   },
   "outputs": [
    {
     "name": "stdout",
     "output_type": "stream",
     "text": [
      "This is mean  44.05780861462415 This is mode  ModeResult(mode=7.923278034074964, count=1) This is median  51.183710740780185\n",
      "56 percentile is  51.99196299414058\n"
     ]
    }
   ],
   "source": [
    "# Calculate mean, median, mode\n",
    "mean = numpy.mean(data)\n",
    "mode = stats.mode(data)\n",
    "median = numpy.median(data)\n",
    "# This are mean, median, mode\n",
    "print(\"This is mean \", mean, \"This is mode \", mode, \"This is median \", median)\n",
    "\n",
    "# Find percentile\n",
    "percentile = numpy.percentile(data, 56)\n",
    "print(\"56 percentile is \", percentile)"
   ]
  },
  {
   "cell_type": "code",
   "execution_count": 47,
   "metadata": {},
   "outputs": [
    {
     "name": "stdout",
     "output_type": "stream",
     "text": [
      "Standard deviation of data is  18.25575764092814 Variance of data is  333.2726870443063\n"
     ]
    }
   ],
   "source": [
    "# Calculating standard deviation\n",
    "standard_deviation = numpy.std(data)\n",
    "\n",
    "# Calculating variance\n",
    "variance = numpy.var(data)\n",
    "print(\"Standard deviation of data is \", standard_deviation, \"Variance of data is \", variance)"
   ]
  },
  {
   "cell_type": "code",
   "execution_count": 48,
   "metadata": {},
   "outputs": [
    {
     "name": "stderr",
     "output_type": "stream",
     "text": [
      "C:\\Users\\Amir\\AppData\\Local\\Temp\\ipykernel_17688\\2528857261.py:7: UserWarning: Matplotlib is currently using agg, which is a non-GUI backend, so cannot show the figure.\n",
      "  plt.show()\n"
     ]
    }
   ],
   "source": [
    "import sys\n",
    "import matplotlib \n",
    "matplotlib.use('Agg')\n",
    "import matplotlib.pyplot as plt \n",
    "\n",
    "plt.hist(data)\n",
    "plt.show()\n"
   ]
  }
 ],
 "metadata": {
  "kernelspec": {
   "display_name": "Python 3",
   "language": "python",
   "name": "python3"
  },
  "language_info": {
   "codemirror_mode": {
    "name": "ipython",
    "version": 3
   },
   "file_extension": ".py",
   "mimetype": "text/x-python",
   "name": "python",
   "nbconvert_exporter": "python",
   "pygments_lexer": "ipython3",
   "version": "3.11.4"
  },
  "orig_nbformat": 4
 },
 "nbformat": 4,
 "nbformat_minor": 2
}
