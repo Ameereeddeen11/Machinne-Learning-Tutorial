{
 "cells": [
  {
   "cell_type": "code",
   "execution_count": 1,
   "metadata": {
    "pycharm": {
     "is_executing": true
    },
    "ExecuteTime": {
     "end_time": "2023-07-28T08:48:35.909220500Z",
     "start_time": "2023-07-28T08:48:33.165824400Z"
    }
   },
   "outputs": [
    {
     "name": "stdout",
     "output_type": "stream",
     "text": [
      "[18.29487781 28.27305578 44.74511819 15.93857819 14.42528417]\n"
     ]
    }
   ],
   "source": [
    "import numpy\n",
    "from scipy import stats\n",
    "\n",
    "# We need to create a big data set. For that we will use Python model Numpy to create random data sets\n",
    "data = numpy.random.uniform(1, 60, 5)\n",
    "print(data)"
   ]
  },
  {
   "cell_type": "code",
   "execution_count": 2,
   "metadata": {
    "collapsed": false,
    "jupyter": {
     "outputs_hidden": false
    },
    "ExecuteTime": {
     "end_time": "2023-07-28T08:48:35.917624Z",
     "start_time": "2023-07-28T08:48:35.913747900Z"
    }
   },
   "outputs": [
    {
     "name": "stdout",
     "output_type": "stream",
     "text": [
      "This is mean  24.335382830692545 This is mode  ModeResult(mode=14.425284174803064, count=1) This is median  18.29487781377999\n",
      "56 percentile is  20.689640526775623\n"
     ]
    }
   ],
   "source": [
    "# Calculate mean, median, mode\n",
    "mean = numpy.mean(data)\n",
    "mode = stats.mode(data)\n",
    "median = numpy.median(data)\n",
    "# This are mean, median, mode\n",
    "print(\"This is mean \", mean, \"This is mode \", mode, \"This is median \", median)\n",
    "\n",
    "# Find percentile\n",
    "percentile = numpy.percentile(data, 56)\n",
    "print(\"56 percentile is \", percentile)"
   ]
  },
  {
   "cell_type": "code",
   "execution_count": 3,
   "metadata": {
    "ExecuteTime": {
     "end_time": "2023-07-28T08:48:35.926094500Z",
     "start_time": "2023-07-28T08:48:35.917624Z"
    }
   },
   "outputs": [
    {
     "name": "stdout",
     "output_type": "stream",
     "text": [
      "Standard deviation of data is  11.289523020745225 Variance of data is  127.45333003593639\n"
     ]
    }
   ],
   "source": [
    "# Calculating standard deviation\n",
    "standard_deviation = numpy.std(data)\n",
    "\n",
    "# Calculating variance\n",
    "variance = numpy.var(data)\n",
    "print(\"Standard deviation of data is \", standard_deviation, \"Variance of data is \", variance)"
   ]
  },
  {
   "cell_type": "code",
   "execution_count": 5,
   "metadata": {
    "ExecuteTime": {
     "end_time": "2023-07-28T08:50:20.987245600Z",
     "start_time": "2023-07-28T08:50:20.853579300Z"
    }
   },
   "outputs": [
    {
     "data": {
      "text/plain": "<Figure size 640x480 with 1 Axes>",
      "image/png": "[encoded data removed]"
     },
     "metadata": {},
     "output_type": "display_data"
    }
   ],
   "source": [
    "import matplotlib.pyplot as plt \n",
    "\n",
    "data_2 = numpy.random.uniform(1, 60, 100)\n",
    "plt.hist(data_2)\n",
    "plt.show()\n"
   ]
  },
  {
   "cell_type": "code",
   "execution_count": 4,
   "metadata": {
    "ExecuteTime": {
     "end_time": "2023-07-28T08:48:36.399150300Z",
     "start_time": "2023-07-28T08:48:36.393741200Z"
    }
   },
   "outputs": [],
   "source": []
  }
 ],
 "metadata": {
  "kernelspec": {
   "display_name": "Python 3 (ipykernel)",
   "language": "python",
   "name": "python3"
  },
  "language_info": {
   "codemirror_mode": {
    "name": "ipython",
    "version": 3
   },
   "file_extension": ".py",
   "mimetype": "text/x-python",
   "name": "python",
   "nbconvert_exporter": "python",
   "pygments_lexer": "ipython3",
   "version": "3.11.4"
  }
 },
 "nbformat": 4,
 "nbformat_minor": 4
}
