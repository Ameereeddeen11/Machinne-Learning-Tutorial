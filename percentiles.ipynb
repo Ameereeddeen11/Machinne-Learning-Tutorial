{
 "cells": [
  {
   "cell_type": "code",
   "execution_count": 1,
   "metadata": {
    "ExecuteTime": {
     "end_time": "2023-07-27T20:47:07.062207800Z",
     "start_time": "2023-07-27T20:47:06.947307200Z"
    }
   },
   "outputs": [
    {
     "name": "stdout",
     "output_type": "stream",
     "text": [
      "We are greater or equel then 50% if we are  25.0  years old and another 50% of people are greater then us\n"
     ]
    }
   ],
   "source": [
    "# Percentiles gave us a number that describes the value that a given percent of the values are lower than\n",
    "''' Example: We are in 80 percent of some exam or competion. That means we are better or equel then 80% of people who attended on \n",
    "that exam or competion but it also means 20% of people are better then us '''\n",
    "\n",
    "# Another Example:\n",
    "import numpy\n",
    "# We are in some team where a lot of people with differnt ages\n",
    "ages = [25, 36, 15, 29, 22, 19, 27, 35, 14, 15, 25, 34, 25] # We are 25 years old for example \n",
    "x = numpy.percentile(ages, 50) # we give percentile. \n",
    "print(\"We are greater or equel then 50% if we are \", x, \" years old and another 50% of people are greater then us\")"
   ]
  }
 ],
 "metadata": {
  "kernelspec": {
   "display_name": "Python 3 (ipykernel)",
   "language": "python",
   "name": "python3"
  },
  "language_info": {
   "codemirror_mode": {
    "name": "ipython",
    "version": 3
   },
   "file_extension": ".py",
   "mimetype": "text/x-python",
   "name": "python",
   "nbconvert_exporter": "python",
   "pygments_lexer": "ipython3",
   "version": "3.11.4"
  }
 },
 "nbformat": 4,
 "nbformat_minor": 4
}
