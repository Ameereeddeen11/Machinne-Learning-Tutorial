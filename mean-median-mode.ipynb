{
 "cells": [
  {
   "cell_type": "code",
   "execution_count": 1,
   "metadata": {
    "collapsed": true,
    "pycharm": {
     "is_executing": true
    },
    "ExecuteTime": {
     "end_time": "2023-07-27T20:46:52.126245800Z",
     "start_time": "2023-07-27T20:46:52.031001600Z"
    }
   },
   "outputs": [
    {
     "name": "stdout",
     "output_type": "stream",
     "text": [
      "Mean of ages is  24.692307692307693\n"
     ]
    }
   ],
   "source": [
    "import numpy\n",
    "\n",
    "# Mean is average value\n",
    "ages = [25, 36, 15, 29, 22, 19, 27, 35, 14, 15, 25, 34, 25]\n",
    "x = numpy.mean(ages) # to calculate mean we need find sum of the all values and divide the sum by the number of values\n",
    "# (25 + 36 + 15 + 29 + 22 + 19 + 27 + 35 + 14 + 15 + 25 + 34 + 25) / 13 = mean\n",
    "print(\"Mean of ages is \", x)"
   ]
  },
  {
   "cell_type": "code",
   "execution_count": 2,
   "metadata": {
    "collapsed": false,
    "ExecuteTime": {
     "end_time": "2023-07-27T20:46:52.132852400Z",
     "start_time": "2023-07-27T20:46:52.126245800Z"
    }
   },
   "outputs": [
    {
     "name": "stdout",
     "output_type": "stream",
     "text": [
      "Median is of ages is  25.0\n"
     ]
    }
   ],
   "source": [
    "import numpy\n",
    "\n",
    "# Median is the value in the middle \n",
    "ages = [25, 36, 15, 29, 22, 19, 27, 35, 14, 15, 25, 34, 25]\n",
    "x = numpy.median(ages)\n",
    "# It convert ages from the youngest (the lowest) to the oldest (the highest)\n",
    "print(\"Median is of ages is \", x)"
   ]
  },
  {
   "cell_type": "code",
   "execution_count": 3,
   "metadata": {
    "ExecuteTime": {
     "end_time": "2023-07-27T20:46:52.513817600Z",
     "start_time": "2023-07-27T20:46:52.132852400Z"
    }
   },
   "outputs": [
    {
     "name": "stdout",
     "output_type": "stream",
     "text": [
      "Mode is of ages is  ModeResult(mode=25, count=3)\n"
     ]
    }
   ],
   "source": [
    "from scipy import stats\n",
    "\n",
    "#Mode is value that appaers the most numbers of times\n",
    "ages = [25, 36, 15, 29, 22, 19, 27, 35, 14, 15, 25, 34, 25]\n",
    "x = stats.mode(ages)\n",
    "print(\"Mode is of ages is \", x)"
   ]
  }
 ],
 "metadata": {
  "kernelspec": {
   "display_name": "Python 3",
   "language": "python",
   "name": "python3"
  },
  "language_info": {
   "codemirror_mode": {
    "name": "ipython",
    "version": 3
   },
   "file_extension": ".py",
   "mimetype": "text/x-python",
   "name": "python",
   "nbconvert_exporter": "python",
   "pygments_lexer": "ipython3",
   "version": "3.11.4"
  }
 },
 "nbformat": 4,
 "nbformat_minor": 0
}
