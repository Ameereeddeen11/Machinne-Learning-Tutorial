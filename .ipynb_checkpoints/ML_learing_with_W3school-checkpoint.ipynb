{
 "cells": [
  {
   "cell_type": "code",
   "execution_count": 5,
   "id": "9e9ea78a",
   "metadata": {},
   "outputs": [
    {
     "name": "stdout",
     "output_type": "stream",
     "text": [
      "The mean of speed =  89.76923076923077\n"
     ]
    }
   ],
   "source": [
    "import numpy\n",
    "speed = [99,86,87,88,111,86,103,87,94,78,77,85,86]\n",
    "x = numpy.mean(speed)\n",
    "print(\"The mean of speed = \", x)"
   ]
  },
  {
   "cell_type": "code",
   "execution_count": 10,
   "id": "2e70c566",
   "metadata": {},
   "outputs": [
    {
     "name": "stdout",
     "output_type": "stream",
     "text": [
      "The mean of speed =  89.76923076923077 The median of speed = 87.0\n"
     ]
    }
   ],
   "source": [
    "y  = numpy.median(speed)\n",
    "print(\"The mean of speed = \", x ,\n",
    "      \"The median of speed =\", y)"
   ]
  },
  {
   "cell_type": "code",
   "execution_count": 17,
   "id": "65ebc6e5",
   "metadata": {},
   "outputs": [
    {
     "name": "stdout",
     "output_type": "stream",
     "text": [
      "The mean of speed =  89.76923076923077 The median of speed = 87.0 ModeResult(mode=array([86]), count=array([3]))\n"
     ]
    }
   ],
   "source": [
    "from scipy import stats\n",
    "speed = [99,86,87,88,111,86,103,87,94,78,77,85,86]\n",
    "z = stats.mode(speed)\n",
    "print(\"The mean of speed = \", x ,\n",
    "      \"The median of speed =\", y , \n",
    "    z)"
   ]
  },
  {
   "cell_type": "code",
   "execution_count": null,
   "id": "4c9084d2",
   "metadata": {},
   "outputs": [],
   "source": []
  }
 ],
 "metadata": {
  "kernelspec": {
   "display_name": "Python 3",
   "language": "python",
   "name": "python3"
  },
  "language_info": {
   "codemirror_mode": {
    "name": "ipython",
    "version": 3
   },
   "file_extension": ".py",
   "mimetype": "text/x-python",
   "name": "python",
   "nbconvert_exporter": "python",
   "pygments_lexer": "ipython3",
   "version": "3.9.2"
  }
 },
 "nbformat": 4,
 "nbformat_minor": 5
}
