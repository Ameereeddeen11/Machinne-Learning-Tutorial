{
 "cells": [
  {
   "cell_type": "code",
   "execution_count": 5,
   "metadata": {},
   "outputs": [
    {
     "name": "stdout",
     "output_type": "stream",
     "text": [
      "Variance of the ages is  52.82840236686391\n"
     ]
    }
   ],
   "source": [
    "import numpy\n",
    "\n",
    "# Variance is number that indicates how spread out the values are\n",
    "ages = [25, 36, 15, 29, 22, 19, 27, 35, 14, 15, 25, 34, 25]\n",
    "x = numpy.var(ages) # It find mean of ages \n",
    "# And for each value, find the diffence the mean => ages.value - mean\n",
    "# And find the square value => (ages.value - mean)square\n",
    "# The variance is the mean of the number square differces\n",
    "print(\"Variance of the ages is \", x)"
   ]
  },
  {
   "cell_type": "code",
   "execution_count": 6,
   "metadata": {},
   "outputs": [
    {
     "name": "stdout",
     "output_type": "stream",
     "text": [
      "Standard deviasion of ages is  7.268314960626288\n"
     ]
    }
   ],
   "source": [
    "import numpy\n",
    "\n",
    "# Standard deviasion is a number that describes how spread out the values are\n",
    "ages = [25, 36, 15, 29, 22, 19, 27, 35, 14, 15, 25, 34, 25]\n",
    "x = numpy.std(ages) # Standard deviasion is calculate by using square root of variance\n",
    "print(\"Standard deviasion of ages is \", x)"
   ]
  }
 ],
 "metadata": {
  "kernelspec": {
   "display_name": "Python 3",
   "language": "python",
   "name": "python3"
  },
  "language_info": {
   "codemirror_mode": {
    "name": "ipython",
    "version": 3
   },
   "file_extension": ".py",
   "mimetype": "text/x-python",
   "name": "python",
   "nbconvert_exporter": "python",
   "pygments_lexer": "ipython3",
   "version": "3.10.11"
  },
  "orig_nbformat": 4
 },
 "nbformat": 4,
 "nbformat_minor": 2
}
