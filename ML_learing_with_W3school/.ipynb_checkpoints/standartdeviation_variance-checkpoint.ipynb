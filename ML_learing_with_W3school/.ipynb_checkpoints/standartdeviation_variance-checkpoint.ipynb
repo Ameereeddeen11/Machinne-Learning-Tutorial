{
 "cells": [
  {
   "cell_type": "code",
   "execution_count": 2,
   "id": "c0a8248c",
   "metadata": {},
   "outputs": [
    {
     "name": "stdout",
     "output_type": "stream",
     "text": [
      "26.77777777777778\n",
      "106.39506172839508\n"
     ]
    }
   ],
   "source": [
    "import numpy\n",
    "#variance\n",
    "# it is a number that indicates how spread out the values are, in the square \n",
    "# it is counted (x - x̄)^2 + ... /n \n",
    "# example\n",
    "age = [26, 15, 36, 45, 10, 21, 26, 36, 26]\n",
    "a = numpy.mean(age)\n",
    "# numpy has method to calculate\n",
    "x = numpy.var(age)\n",
    "# it will import one of the age value and subtract from mean and then square the value\n",
    "# (26 - 26.7)^2\n",
    "# and this will do from every age value than find the sum of all values, and divide the sum by the number of values \n",
    "print(a)\n",
    "print(x)\n",
    "\n",
    "# standart deviation \n",
    "# it is a number that describes how spread out the values are\n",
    "# to calculate the standart deviation, you must take square root of the variance\n",
    "# numpy has a method to calculate\n",
    "y = numpy.std(age)\n",
    "print(y)"
   ]
  },
  {
   "cell_type": "code",
   "execution_count": null,
   "id": "07adea21",
   "metadata": {},
   "outputs": [],
   "source": []
  }
 ],
 "metadata": {
  "kernelspec": {
   "display_name": "Python 3 (ipykernel)",
   "language": "python",
   "name": "python3"
  },
  "language_info": {
   "codemirror_mode": {
    "name": "ipython",
    "version": 3
   },
   "file_extension": ".py",
   "mimetype": "text/x-python",
   "name": "python",
   "nbconvert_exporter": "python",
   "pygments_lexer": "ipython3",
   "version": "3.10.6"
  }
 },
 "nbformat": 4,
 "nbformat_minor": 5
}
