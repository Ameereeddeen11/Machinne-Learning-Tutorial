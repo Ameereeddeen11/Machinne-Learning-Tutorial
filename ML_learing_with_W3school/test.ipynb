{
 "cells": [
  {
   "cell_type": "code",
   "execution_count": 6,
   "metadata": {
    "pycharm": {
     "name": "#%%\n"
    },
    "scrolled": true
   },
   "outputs": [
    {
     "name": "stdout",
     "output_type": "stream",
     "text": [
      "Sum of values is  616\n",
      "mean of the value  68.44444444444444\n"
     ]
    }
   ],
   "source": [
    "import numpy\n",
    "#repetition of mean, median, mode\n",
    "values = [99,86,87,77,69,96,27,25,50]\n",
    "sum_value = sum(values)\n",
    "print(\"Sum of values is \", sum_value)\n",
    "\n",
    "mean = numpy.mean(values)\n",
    "print(\"mean of the value \", mean)"
   ]
  },
  {
   "cell_type": "code",
   "execution_count": 7,
   "outputs": [
    {
     "name": "stdout",
     "output_type": "stream",
     "text": [
      "77.0\n"
     ]
    }
   ],
   "source": [
    "import numpy\n",
    "#median is value in middle\n",
    "values = [99,86,87,77,69,96,27,25,50]\n",
    "median = numpy.median(values)\n",
    "print(median)"
   ],
   "metadata": {
    "collapsed": false,
    "pycharm": {
     "name": "#%%\n"
    }
   }
  },
  {
   "cell_type": "code",
   "execution_count": 9,
   "outputs": [
    {
     "name": "stdout",
     "output_type": "stream",
     "text": [
      "mode of values is  ModeResult(mode=array([45]), count=array([3]))\n"
     ]
    }
   ],
   "source": [
    "from scipy import stats\n",
    "#mode is value that appears the most number of times\n",
    "values = [23,52,45,85,95,85,12,25,23,45,63,63,45,74,10,12]\n",
    "mode = stats.mode(values)\n",
    "print(\"mode of values is \", mode)"
   ],
   "metadata": {
    "collapsed": false,
    "pycharm": {
     "name": "#%%\n"
    }
   }
  }
 ],
 "metadata": {
  "kernelspec": {
   "display_name": "Python 3 (ipykernel)",
   "language": "python",
   "name": "python3"
  },
  "language_info": {
   "codemirror_mode": {
    "name": "ipython",
    "version": 3
   },
   "file_extension": ".py",
   "mimetype": "text/x-python",
   "name": "python",
   "nbconvert_exporter": "python",
   "pygments_lexer": "ipython3",
   "version": "3.10.6"
  }
 },
 "nbformat": 4,
 "nbformat_minor": 1
}