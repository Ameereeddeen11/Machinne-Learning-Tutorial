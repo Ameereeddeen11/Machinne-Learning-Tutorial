{
 "cells": [
  {
   "cell_type": "code",
   "execution_count": 1,
   "metadata": {},
   "outputs": [
    {
     "name": "stdout",
     "output_type": "stream",
     "text": [
      "44.9\n"
     ]
    }
   ],
   "source": [
    "import numpy \n",
    "age = [85, 24, 87, 12, 26, 15, 45, 12, 87, 56]\n",
    "# mean  \n",
    "x = numpy.mean(age)\n",
    "print(x)"
   ]
  },
  {
   "cell_type": "code",
   "execution_count": 5,
   "metadata": {},
   "outputs": [
    {
     "name": "stdout",
     "output_type": "stream",
     "text": [
      "87.0\n"
     ]
    }
   ],
   "source": [
    "import numpy\n",
    "speed = [99,86,87,88,111,86,103,87,94,78,77,85,86]\n",
    "# median\n",
    "x = numpy.median(speed)\n",
    "print(x)"
   ]
  },
  {
   "cell_type": "code",
   "execution_count": 12,
   "metadata": {},
   "outputs": [
    {
     "name": "stdout",
     "output_type": "stream",
     "text": [
      "ModeResult(mode=array([12]), count=array([2]))\n"
     ]
    }
   ],
   "source": [
    "from scipy import stats \n",
    "# mode\n",
    "age = [85, 24, 87, 12, 26, 15, 45, 12, 87, 56]\n",
    "x = stats.mode(age)\n",
    "print(x)"
   ]
  },
  {
   "cell_type": "code",
   "execution_count": null,
   "metadata": {},
   "outputs": [],
   "source": []
  }
 ],
 "metadata": {
  "kernelspec": {
   "display_name": "Python 3 (ipykernel)",
   "language": "python",
   "name": "python3"
  },
  "language_info": {
   "codemirror_mode": {
    "name": "ipython",
    "version": 3
   },
   "file_extension": ".py",
   "mimetype": "text/x-python",
   "name": "python",
   "nbconvert_exporter": "python",
   "pygments_lexer": "ipython3",
   "version": "3.10.6"
  },
  "vscode": {
   "interpreter": {
    "hash": "f376056e2e71f229549fcc288c78d57feb733210c1d7991b17bfe80fc593df67"
   }
  }
 },
 "nbformat": 4,
 "nbformat_minor": 2
}
