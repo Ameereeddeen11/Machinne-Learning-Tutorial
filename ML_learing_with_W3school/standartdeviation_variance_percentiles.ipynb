{
 "cells": [
  {
   "cell_type": "code",
   "execution_count": 5,
   "id": "5f2646c5",
   "metadata": {
    "pycharm": {
     "name": "#%%\n"
    }
   },
   "outputs": [
    {
     "name": "stdout",
     "output_type": "stream",
     "text": [
      "26.77777777777778\n",
      "106.39506172839508\n",
      "10.314798191355713\n",
      "The most of the ages are within the range of  10.314798191355713 from the mean value 26.77777777777778\n"
     ]
    }
   ],
   "source": [
    "import numpy\n",
    "#variance\n",
    "# it is a number that indicates how spread out the values are, in the square \n",
    "# it is counted (x - x̄)^2 + ... /n \n",
    "# example\n",
    "age = [26, 15, 36, 45, 10, 21, 26, 36, 26]\n",
    "a = numpy.mean(age)\n",
    "# numpy has method to calculate\n",
    "x = numpy.var(age)\n",
    "# it will import one of the age value and subtract from mean and then square the value\n",
    "# (26 - 26.7)^2\n",
    "# and this will do from every age value than find the sum of all values, and divide the sum by the number of values \n",
    "print(a)\n",
    "print(x)\n",
    "\n",
    "# standart deviation \n",
    "# it is a number that describes how spread out the values are\n",
    "# to calculate the standart deviation, you must take square root of the variance\n",
    "# numpy has a method to calculate\n",
    "y = numpy.std(age)\n",
    "print(y)\n",
    "\n",
    "print(\"The most of the ages are within the range of \", y, \"from the mean value\", a)"
   ]
  },
  {
   "cell_type": "code",
   "execution_count": 12,
   "id": "51703fac",
   "metadata": {
    "pycharm": {
     "name": "#%%\n"
    }
   },
   "outputs": [
    {
     "name": "stdout",
     "output_type": "stream",
     "text": [
      "[2, 5, 6, 7, 8, 11, 15, 25, 27, 31, 31, 32, 36, 39, 41, 43, 48, 50, 61, 80, 82] 21\n",
      "31.0\n"
     ]
    }
   ],
   "source": [
    "import numpy\n",
    "\n",
    "number = [5,31,43,48,50,41,7,11,15,39,80,82,32,2,8,6,25,36,27,61,31]\n",
    "number.sort()\n",
    "print(number, len(number))\n",
    "\n",
    "# percentile \n",
    "# it gives number that describes the value that given percent of the value are lower than\n",
    "# for example: we have array of numbers called number\n",
    "# if I give 50. percentile it will give me 31 that is meaning 50% of the numbers are 31 or smaller\n",
    "x = numpy.percentile(number, 50)\n",
    "print(x)"
   ]
  },
  {
   "cell_type": "code",
   "execution_count": null,
   "id": "37f6c2c2",
   "metadata": {
    "pycharm": {
     "name": "#%%\n"
    }
   },
   "outputs": [],
   "source": []
  }
 ],
 "metadata": {
  "kernelspec": {
   "display_name": "Python 3 (ipykernel)",
   "language": "python",
   "name": "python3"
  },
  "language_info": {
   "codemirror_mode": {
    "name": "ipython",
    "version": 3
   },
   "file_extension": ".py",
   "mimetype": "text/x-python",
   "name": "python",
   "nbconvert_exporter": "python",
   "pygments_lexer": "ipython3",
   "version": "3.10.6"
  }
 },
 "nbformat": 4,
 "nbformat_minor": 5
}