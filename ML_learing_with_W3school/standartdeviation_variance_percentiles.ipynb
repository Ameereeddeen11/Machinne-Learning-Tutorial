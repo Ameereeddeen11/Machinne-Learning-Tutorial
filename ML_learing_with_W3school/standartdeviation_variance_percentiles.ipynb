{
 "cells": [
  {
   "cell_type": "code",
   "execution_count": 12,
   "id": "51703fac",
   "metadata": {},
   "outputs": [
    {
     "name": "stdout",
     "output_type": "stream",
     "text": [
      "[2, 5, 6, 7, 8, 11, 15, 25, 27, 31, 31, 32, 36, 39, 41, 43, 48, 50, 61, 80, 82] 21\n",
      "31.0\n"
     ]
    }
   ],
   "source": [
    "import numpy\n",
    "\n",
    "number = [5,31,43,48,50,41,7,11,15,39,80,82,32,2,8,6,25,36,27,61,31]\n",
    "number.sort()\n",
    "print(number, len(number))\n",
    "\n",
    "# percentile \n",
    "# it gives number that describes the value that given percent of the value are lower than\n",
    "# for example: we have array of numbers called number\n",
    "# if I give 50. percentile it will give me 31 that is meaning 50% of the numbers are 31 or smaller\n",
    "x = numpy.percentile(number, 50)\n",
    "print(x)"
   ]
  },
  {
   "cell_type": "code",
   "execution_count": null,
   "id": "37f6c2c2",
   "metadata": {},
   "outputs": [],
   "source": []
  }
 ],
 "metadata": {
  "kernelspec": {
   "display_name": "Python 3 (ipykernel)",
   "language": "python",
   "name": "python3"
  },
  "language_info": {
   "codemirror_mode": {
    "name": "ipython",
    "version": 3
   },
   "file_extension": ".py",
   "mimetype": "text/x-python",
   "name": "python",
   "nbconvert_exporter": "python",
   "pygments_lexer": "ipython3",
   "version": "3.10.6"
  }
 },
 "nbformat": 4,
 "nbformat_minor": 5
}
